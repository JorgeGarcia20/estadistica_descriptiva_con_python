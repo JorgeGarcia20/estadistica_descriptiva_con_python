{
 "cells": [
  {
   "cell_type": "markdown",
   "id": "2a2c0927",
   "metadata": {},
   "source": [
    "# ¿Qué es la estadística descriptiva?\n",
    "La estadística descriptiva es una disciplina que se encarga de recoger, almacenar, ordenar, realizar tablas o gráficos y calcular parámetros básicos sobre el conjunto de datos."
   ]
  },
  {
   "cell_type": "markdown",
   "id": "21dd0ef7",
   "metadata": {},
   "source": [
    "# ¿Qué es la estadística inferencial?\n",
    "Se trata de la rama de la estadística encargada de hacer deducciones, es decir, inferir propiedades, conclusiones y tendencias, a partir de una muestra del conjunto. Su papel es interpretar, hacer proyecciones y comparaciones."
   ]
  },
  {
   "cell_type": "markdown",
   "id": "f7382089",
   "metadata": {},
   "source": [
    "**En otras palabras, la estadística descriptiva resume los datos y la estadística inferencial hace predicciones con datos.**"
   ]
  },
  {
   "cell_type": "markdown",
   "id": "03356c0a",
   "metadata": {},
   "source": [
    "# ¿Para qué sirve la estadística descriptiva?\n",
    "Sirve para:\n",
    "* Realizar analisis exploratio de la información.\n",
    "* Realizar procesamiento de la información antes de tener un modelo de ML"
   ]
  },
  {
   "cell_type": "markdown",
   "id": "bea880fb",
   "metadata": {},
   "source": []
  }
 ],
 "metadata": {
  "kernelspec": {
   "display_name": "Python 3 (ipykernel)",
   "language": "python",
   "name": "python3"
  },
  "language_info": {
   "codemirror_mode": {
    "name": "ipython",
    "version": 3
   },
   "file_extension": ".py",
   "mimetype": "text/x-python",
   "name": "python",
   "nbconvert_exporter": "python",
   "pygments_lexer": "ipython3",
   "version": "3.10.6"
  }
 },
 "nbformat": 4,
 "nbformat_minor": 5
}
